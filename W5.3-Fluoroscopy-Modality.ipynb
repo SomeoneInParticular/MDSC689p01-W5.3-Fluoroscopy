{
 "cells": [
  {
   "cell_type": "markdown",
   "metadata": {
    "slideshow": {
     "slide_type": "slide"
    }
   },
   "source": [
    "## Learning Objectives\n",
    "1. Learn what distinbguishes Fluoroscopy from other X-Ray modalities\n",
    "2. Determine common use cases of fluoroscopy analysis\n",
    "3. Evaluate the benefits and & drawbacks of the technique\n",
    "4. Learn about and understand the design of fluoroscopy machines (in particular the C-Arm)"
   ]
  },
  {
   "cell_type": "markdown",
   "metadata": {
    "hideCode": false,
    "slideshow": {
     "slide_type": "slide"
    }
   },
   "source": [
    "## What is Fluoroscopy?\n",
    "* Fluoroscopy is simply an X-Ray with an added dimension; time\n",
    "* Multiple X-rays samples are taken in sequence and displayed as a video\n",
    "* Anywhere from 5-30 frames per second (fps) is common, with up to 60fps being occasionally used"
   ]
  },
  {
   "cell_type": "markdown",
   "metadata": {
    "slideshow": {
     "slide_type": "slide"
    }
   },
   "source": [
    "### What situations this dimension be useful?"
   ]
  },
  {
   "cell_type": "markdown",
   "metadata": {
    "slideshow": {
     "slide_type": "slide"
    }
   },
   "source": [
    "## Common Use Cases\n",
    "*Gastrointestinal Diagnostics*\n",
    "\n",
    "* See digestion problems (leaks, growths, leisions etc.) in real time\n",
    "* Almost always requires ingesting a high-contrast liquid\n",
    "\n"
   ]
  },
  {
   "cell_type": "code",
   "execution_count": 1,
   "metadata": {
    "hideCode": true,
    "hidePrompt": true,
    "slideshow": {
     "slide_type": "slide"
    }
   },
   "outputs": [
    {
     "data": {
      "text/html": [
       "<img src=\"Barium_swallow.gif\" width=248 height=360/>\n",
       "<br>Source: Wikipedia (Normal barium swallow animation.gif, Hellerhoff)\n"
      ],
      "text/plain": [
       "<IPython.core.display.HTML object>"
      ]
     },
     "metadata": {},
     "output_type": "display_data"
    }
   ],
   "source": [
    "%%HTML\n",
    "<img src=\"Barium_swallow.gif\" width=248 height=360/>\n",
    "<br>Source: Wikipedia (Normal barium swallow animation.gif, Hellerhoff)"
   ]
  },
  {
   "cell_type": "markdown",
   "metadata": {
    "hidePrompt": false,
    "slideshow": {
     "slide_type": "slide"
    }
   },
   "source": [
    "*Angiography (Fluoroscopy of Veins)*\n",
    "\n",
    "* Same concept as the above, but often at higher frame-rate (~60fps)\n",
    "* Usually high-contrast liquids are injected to better resolve vessels"
   ]
  },
  {
   "cell_type": "code",
   "execution_count": 2,
   "metadata": {
    "hideCode": true,
    "hideOutput": false,
    "hidePrompt": true,
    "slideshow": {
     "slide_type": "slide"
    }
   },
   "outputs": [
    {
     "data": {
      "text/html": [
       "<video width=\"480\" height=\"360\" controls>\n",
       "  <source src=\"Renal_artery_angiography.webm\" type=\"video/webm\">\n",
       "</video>\n",
       "<br>Source: Wikipedia (Renal artery angiography.ogv, DEXi)\n"
      ],
      "text/plain": [
       "<IPython.core.display.HTML object>"
      ]
     },
     "metadata": {},
     "output_type": "display_data"
    }
   ],
   "source": [
    "%%HTML\n",
    "<video width=\"480\" height=\"360\" controls>\n",
    "  <source src=\"Renal_artery_angiography.webm\" type=\"video/webm\">\n",
    "</video>\n",
    "<br>Source: Wikipedia (Renal artery angiography.ogv, DEXi)"
   ]
  },
  {
   "cell_type": "markdown",
   "metadata": {
    "slideshow": {
     "slide_type": "slide"
    }
   },
   "source": [
    "*Surgical Guidance*\n",
    "\n",
    "* Instead of needing to physically expose tissue of interest, we can guide our tools remotely, guided by the image\n",
    "* I.E. catheterization, fluid draining, sample collection and the like"
   ]
  },
  {
   "cell_type": "code",
   "execution_count": 3,
   "metadata": {
    "hideCode": true,
    "hidePrompt": true,
    "slideshow": {
     "slide_type": "slide"
    }
   },
   "outputs": [
    {
     "data": {
      "text/html": [
       "<img src=\"Catheter_insertion.gif\" width=320 height=320/>\n",
       "<br>Source: Immanuel Albertinen Diakonie (PTCA mit Stent ohne Medikamentenbeschichtung, Figure 1)\n"
      ],
      "text/plain": [
       "<IPython.core.display.HTML object>"
      ]
     },
     "metadata": {},
     "output_type": "display_data"
    }
   ],
   "source": [
    "%%HTML\n",
    "<img src=\"Catheter_insertion.gif\" width=320 height=320/>\n",
    "<br>Source: Immanuel Albertinen Diakonie (PTCA mit Stent ohne Medikamentenbeschichtung, Figure 1)"
   ]
  },
  {
   "cell_type": "markdown",
   "metadata": {
    "slideshow": {
     "slide_type": "slide"
    }
   },
   "source": [
    "*Emergency Imaging/Rapid Diagnostics*\n",
    "\n",
    "* Find the problem quickly, accurately, and with much less risk to the patient (opposed to surgery or other physcial inspection techniques)"
   ]
  },
  {
   "cell_type": "code",
   "execution_count": 4,
   "metadata": {
    "hideCode": true,
    "hidePrompt": true,
    "slideshow": {
     "slide_type": "slide"
    }
   },
   "outputs": [
    {
     "data": {
      "text/html": [
       "<br>Post-Surgery Staple Leak\n",
       "<img src=\"Fluoroscopy_emergency.jpeg\" width=320 height=320/>\n",
       "<br>Source: European Society of Radiology (Electronic Presentation Online System, C-1264, Figure 4)\n"
      ],
      "text/plain": [
       "<IPython.core.display.HTML object>"
      ]
     },
     "metadata": {},
     "output_type": "display_data"
    }
   ],
   "source": [
    "%%HTML\n",
    "<br>Post-Surgery Staple Leak\n",
    "<img src=\"Fluoroscopy_emergency.jpeg\" width=320 height=320/>\n",
    "<br>Source: European Society of Radiology (Electronic Presentation Online System, C-1264, Figure 4)"
   ]
  },
  {
   "cell_type": "markdown",
   "metadata": {
    "slideshow": {
     "slide_type": "slide"
    }
   },
   "source": [
    "## Multiple Sampling\n",
    "To achieve the real-time imaging, multiple samples need to be taken in rapid succession. This is done in one of two ways:\n",
    "* Continous X-Ray emmision, with a sum-of-samples taken every period\n",
    "    * Prone to \"smearing\" motion\n",
    "* Higher intensity pulses of X-Ray radiation done every period\n",
    "    * Can miss things that occur more rapidly than the frequency would capture"
   ]
  },
  {
   "cell_type": "markdown",
   "metadata": {
    "slideshow": {
     "slide_type": "slide"
    }
   },
   "source": [
    "**What issues might arise from taking multiple samples in rapid succession?**\n",
    "\n",
    "**How could these issues be mitigated?** "
   ]
  },
  {
   "cell_type": "code",
   "execution_count": 5,
   "metadata": {
    "hideCode": true,
    "hidePrompt": true
   },
   "outputs": [
    {
     "data": {
      "text/html": [
       "At 30fps, a 10 minute examination would create 18,000 images! If the radiation dose is not reduced, it would burn the patient!<br>\n",
       "<img src=\"Fluoroscopy_burn.jpg\" width=320 height=320/>\n",
       "<br>Source: American Association of Physicists in Medicine (Protecting patients by training physicians in fluoroscopic radiation management, Figure 1)\n"
      ],
      "text/plain": [
       "<IPython.core.display.HTML object>"
      ]
     },
     "metadata": {},
     "output_type": "display_data"
    }
   ],
   "source": [
    "%%HTML\n",
    "At 30fps, a 10 minute examination would create 18,000 images! If the radiation dose is not reduced, it would burn the patient!<br>\n",
    "<img src=\"Fluoroscopy_burn.jpg\" width=320 height=320/>\n",
    "<br>Source: American Association of Physicists in Medicine (Protecting patients by training physicians in fluoroscopic radiation management, Figure 1)"
   ]
  },
  {
   "cell_type": "markdown",
   "metadata": {
    "slideshow": {
     "slide_type": "slide"
    }
   },
   "source": [
    "## Compensating for Repetition\n",
    "Most direct solution; reduce the intensity and strength of each sample!\n",
    "* Most fluoroscopes samples are taken with 1/1000th the intensity of general X-Ray\n",
    "* This causes a number of issues, however:\n",
    "    * Increased noise-to-signal ratio\n",
    "    * Reduced fidelity of the signal"
   ]
  },
  {
   "cell_type": "markdown",
   "metadata": {
    "slideshow": {
     "slide_type": "subslide"
    }
   },
   "source": [
    "**Why does the signal-to-noise ratio increase?**"
   ]
  },
  {
   "cell_type": "markdown",
   "metadata": {
    "slideshow": {
     "slide_type": "slide"
    }
   },
   "source": [
    "## Fluoroscopy II Design"
   ]
  },
  {
   "cell_type": "code",
   "execution_count": 6,
   "metadata": {
    "hideCode": true,
    "hidePrompt": true,
    "slideshow": {
     "slide_type": "subslide"
    }
   },
   "outputs": [
    {
     "data": {
      "text/html": [
       "<img src=\"Fluoroscopy_reciever.png\" width=480 height=480/>\n",
       "<br>Source: Essential Physics of Medical Imaging 3rd Edition (Figure 9-2)\n"
      ],
      "text/plain": [
       "<IPython.core.display.HTML object>"
      ]
     },
     "metadata": {},
     "output_type": "display_data"
    }
   ],
   "source": [
    "%%HTML\n",
    "<img src=\"Fluoroscopy_reciever.png\" width=480 height=480/>\n",
    "<br>Source: Essential Physics of Medical Imaging 3rd Edition (Figure 9-2)"
   ]
  },
  {
   "cell_type": "markdown",
   "metadata": {
    "slideshow": {
     "slide_type": "subslide"
    }
   },
   "source": [
    "**Why is the Input Phosphor/Cathode Curved?**"
   ]
  },
  {
   "cell_type": "markdown",
   "metadata": {
    "slideshow": {
     "slide_type": "notes"
    }
   },
   "source": [
    "Input Cathod + Phosphor:\n",
    "* \"Catches the X-Rays\" and converts them into released electrons\n",
    "* Directed into the electronic \"lenses\" which will be used to accelerate and focus said electrons\n",
    "* The energy of each released electron corresponds to the energy of the X-ray used to create it\n",
    "* It's curvature can lead to a \"pin-cushion\" disortion, however, so keeping the target centered is best\n",
    "\n",
    "Electronic Lenses (G1, G2, G3):\n",
    "* Focus the released electrons, accelerating them as they do so\n",
    "* By carefuly modulation, most of the resulting electrons should be directed into the with more energy than when they started.\n",
    "\n",
    "Output Anode + Phosphor:\n",
    "* Electrons are absorbed by the anode, and the energy is transferred to a second phosphor\n",
    "* The phosphor releases this energy as visible light, which is recorded by a camera and shown to the operator\n"
   ]
  },
  {
   "cell_type": "markdown",
   "metadata": {
    "slideshow": {
     "slide_type": "slide"
    }
   },
   "source": [
    "## Auto-Modulation"
   ]
  },
  {
   "cell_type": "markdown",
   "metadata": {
    "slideshow": {
     "slide_type": "subslide"
    }
   },
   "source": [
    "Due to the temporal element, the attentuation the patient has can change over time (I.E. if they take a breath). This can lead to changes in the contrast of the resulting image if nothing were do be done. This can be accounted for (usually automatically nowadays) by modulating two elements: \n",
    "* kV being given to the *receiver* to accelerate electrons\n",
    "    * Does not increase patient dosage\n",
    "    * Reduces contrast and can lead to increased noise\n",
    "* mA being fed to the emitting X-ray system \n",
    "    * Increases patient dosage to X-Rays\n",
    "    * No loss in contrast, and often (slightly) reduces noise\n",
    "\n",
    "A balanced between image quality and patient dosage is usually optimal, though settings often exist to skew the results in either direction as needed."
   ]
  },
  {
   "cell_type": "code",
   "execution_count": 7,
   "metadata": {
    "hideCode": true,
    "hidePrompt": true,
    "slideshow": {
     "slide_type": "slide"
    }
   },
   "outputs": [
    {
     "data": {
      "text/html": [
       "<img src=\"Compensation_curves.png\" width=360 height=360/>\n",
       "<br>Source: Essential Physics of Medical Imaging 3rd Edition (Figure 9-8)\n"
      ],
      "text/plain": [
       "<IPython.core.display.HTML object>"
      ]
     },
     "metadata": {},
     "output_type": "display_data"
    }
   ],
   "source": [
    "%%HTML\n",
    "<img src=\"Compensation_curves.png\" width=360 height=360/>\n",
    "<br>Source: Essential Physics of Medical Imaging 3rd Edition (Figure 9-8)"
   ]
  },
  {
   "cell_type": "markdown",
   "metadata": {
    "slideshow": {
     "slide_type": "notes"
    }
   },
   "source": []
  }
 ],
 "metadata": {
  "celltoolbar": "Hide code",
  "kernelspec": {
   "display_name": "Python 3",
   "language": "python",
   "name": "python3"
  },
  "language_info": {
   "codemirror_mode": {
    "name": "ipython",
    "version": 3
   },
   "file_extension": ".py",
   "mimetype": "text/x-python",
   "name": "python",
   "nbconvert_exporter": "python",
   "pygments_lexer": "ipython3",
   "version": "3.6.8"
  }
 },
 "nbformat": 4,
 "nbformat_minor": 2
}
