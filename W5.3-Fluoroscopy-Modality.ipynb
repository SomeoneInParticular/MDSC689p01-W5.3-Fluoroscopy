{
 "cells": [
  {
   "cell_type": "markdown",
   "metadata": {
    "slideshow": {
     "slide_type": "slide"
    }
   },
   "source": [
    "# X-Rays: Fluoroscopy\n",
    "### By Kalum Ost and Maya Sohn"
   ]
  },
  {
   "cell_type": "markdown",
   "metadata": {
    "slideshow": {
     "slide_type": "slide"
    }
   },
   "source": [
    "## Learning Objectives\n",
    "1. Introduce fluoroscopic technique and the C-Arm design\n",
    "    1. Common Applications\n",
    "    2. C-Arm Design\n",
    "2. Discuss risks and benefits\n",
    "    1. Fluoroscopic considerations (including C-Arm)\n",
    "    2. Component considerations\n",
    "    3. **Dosage!!!**"
   ]
  },
  {
   "cell_type": "markdown",
   "metadata": {
    "hideCode": false,
    "slideshow": {
     "slide_type": "slide"
    }
   },
   "source": [
    "## What is Fluoroscopy?\n",
    "* Fluoroscopy is simply an X-ray in movie format!\n",
    "\n",
    "* Multiple X-rays samples are taken in rapid sequence and **displayed as a video**\n",
    "\n",
    "* Sampling 30 frames per second (FPS) allows for **real time** video display"
   ]
  },
  {
   "cell_type": "markdown",
   "metadata": {
    "slideshow": {
     "slide_type": "slide"
    }
   },
   "source": [
    "**Q1: In what situations would fluoroscopy be useful?**"
   ]
  },
  {
   "cell_type": "markdown",
   "metadata": {
    "slideshow": {
     "slide_type": "slide"
    }
   },
   "source": [
    "## Multiple Sampling\n",
    "To achieve the real-time imaging, multiple samples need to be taken in rapid succession. This is done in one of two ways:\n",
    "* **Continous** X-Ray emission\n",
    "    * Prone to \"smearing\"  (image blurring)\n",
    "* **Pulsed** high intensity X-Ray emission\n",
    "    * Same image quality, less prone to blurring due to movement\n",
    "<img src=\"ModesOfOperation.png\" width=480 height=480/>\n",
    "<br>Source: Essential Physics of Medical Imaging 3rd Edition (Figure 9-9)"
   ]
  },
  {
   "cell_type": "markdown",
   "metadata": {
    "slideshow": {
     "slide_type": "slide"
    }
   },
   "source": [
    "**Q2: What issues might arise from taking multiple samples in rapid succession?**\n",
    "\n",
    "**Q3: How could these issues be mitigated?** "
   ]
  },
  {
   "cell_type": "markdown",
   "metadata": {
    "slideshow": {
     "slide_type": "slide"
    }
   },
   "source": [
    "At 30fps, a 10 minute examination would create 18,000 images! If the radiation dose is not reduced, it would burn the patient!<br>\n",
    "<img src=\"Fluoroscopy_burn.jpg\" width=320 height=320/>\n",
    "<br>Source: American Association of Physicists in Medicine (Protecting patients by training physicians in fluoroscopic radiation management, Figure 1)"
   ]
  },
  {
   "cell_type": "markdown",
   "metadata": {
    "slideshow": {
     "slide_type": "slide"
    }
   },
   "source": [
    "|Grade|Dosage|Symptoms|\n",
    "|---|---|---|\n",
    "|I|>2Gy (200R)|Skin redness, slight edema 2-5 weeks post-exposure|\n",
    "|II|>15Gy (1500R)|Above + sense of heat, blood vessel injury, noticeable pain|\n",
    "|III|>40Gy (4000R)|Above + skin erosion, potential for necrosis and long term atrophy potentially requiring skin grafts|\n",
    "|IV|>550Gy (55,000R)|Immediate (within 2 weeks) blistering, often with extreme pain. Rapid necrosis, often requiring continuous surgical intervention over years|\n",
    "\n",
    "Source: Cutaneous Radiation Injury (CRI): A Fact Sheet for Clinicians (Center for Disease Control and Prevention)"
   ]
  },
  {
   "cell_type": "markdown",
   "metadata": {
    "slideshow": {
     "slide_type": "slide"
    }
   },
   "source": [
    "## Accounting for the Dosage of Multiple Images\n",
    "Most direct solution; reduce the intensity and strength of X-Rays required for each image!\n",
    "* Most fluoroscopes samples are taken with 1/1000th the intensity of general X-Ray\n",
    "* This causes a couple of issues in image quality, such as:\n",
    "    * Decreased signal-to-noise ratio\n",
    "    * Reduced fidelity of the signal"
   ]
  },
  {
   "cell_type": "markdown",
   "metadata": {
    "slideshow": {
     "slide_type": "slide"
    }
   },
   "source": [
    "**Q4: Why does the signal-to-noise ratio decrease?**"
   ]
  },
  {
   "cell_type": "markdown",
   "metadata": {
    "slideshow": {
     "slide_type": "slide"
    }
   },
   "source": [
    "## How does a Fluoroscope system work?\n",
    "\n",
    "<img src=\"FluoroscopyDesign.jpg\" width=240 height=240/>\n",
    "<br>Source: Image Wisely 2020 (Modern Fluoroscopy Imaging Systems, Figure 1, Dr. Gingold et al.)"
   ]
  },
  {
   "cell_type": "markdown",
   "metadata": {
    "slideshow": {
     "slide_type": "notes"
    }
   },
   "source": [
    "* The physics are the same as any other X-Ray; just at a lower dosage\n",
    "* To account for lower dosage, an image intensifier (be it physical or electronic) is required\n",
    "* Attenuating wedges can be added to decrease X-Ray exposure, decrease glare, and equalize any X-Ray \"hot spots\"\n",
    "* The field of view (FoV) can also be adjusted using a collimator, further increasing control on dosage and targeting\n",
    "* Finally, filters can be put in place to control dosage even more (though this is more wasteful energy-wise than other solutions)\n"
   ]
  },
  {
   "cell_type": "markdown",
   "metadata": {
    "slideshow": {
     "slide_type": "slide"
    }
   },
   "source": [
    "## Image Intensified (II) Design\n",
    "* Initially invented for fluoroscopy, specifically to get around the low signal issue\n",
    "* Effectively multiplies the received X-Ray's strength to allow for a usable signal\n",
    "* Results in a distorted \"pin-cushion\" effect: center structure of interest to avoid this distortion"
   ]
  },
  {
   "cell_type": "markdown",
   "metadata": {
    "slideshow": {
     "slide_type": "subslide"
    }
   },
   "source": [
    "<img src=\"Fluoroscopy_reciever.png\" width=480 height=480/>\n",
    "<br>Source: Essential Physics of Medical Imaging 3rd Edition (Figure 9-4)"
   ]
  },
  {
   "cell_type": "markdown",
   "metadata": {
    "slideshow": {
     "slide_type": "slide"
    }
   },
   "source": [
    "## Flat-Panel Design\n",
    "Mimics a more classical X-Ray system, but the lack of an II requires difference compensations methods:\n",
    "* Larger dexels to \"bin\" captured X-Rays into a readable signal (reducing spatial resolution)\n",
    "* Capacitors which accumulates received energy over time (reducing temporal resolution)"
   ]
  },
  {
   "cell_type": "markdown",
   "metadata": {
    "slideshow": {
     "slide_type": "notes"
    }
   },
   "source": [
    "These systems tend to be cheaper (requiring fewer parts and simpler designs) and more light weight compared to a full II. The signal they produce also lacks (most) distortions, so it is easier to process. Hence, they have been slowly phasing out the II in most applications. However, IIs generally have greater collimation and less electronic noise, so are still seen for specialized uses."
   ]
  },
  {
   "cell_type": "markdown",
   "metadata": {
    "slideshow": {
     "slide_type": "slide"
    }
   },
   "source": [
    "<img src=\"FlatPanelDesign.png\" width=500 height=500/>\n",
    "<br>Source: Flat-panel detectors: How much better are they? (Figure 8 - ResearchGate)"
   ]
  },
  {
   "cell_type": "markdown",
   "metadata": {
    "slideshow": {
     "slide_type": "slide"
    }
   },
   "source": [
    "## Auto-Exposure Curves (AERC Circuit)\n",
    "<img src=\"Compensation_curves.png\" width=360 height=360/>\n",
    "<br>Source: Essential Physics of Medical Imaging 3rd Edition (Figure 9-8)\n",
    "\n",
    "* Driven by the Sensor\n",
    "* Feedback system\n",
    "    * Alters mA or kV to adjust x-ray dosage\n",
    "    * **Keeps SNR constant**"
   ]
  },
  {
   "cell_type": "markdown",
   "metadata": {
    "slideshow": {
     "slide_type": "notes"
    }
   },
   "source": [
    "Due to the temporal element, the attenuation the patient has can change over time (I.E. if they take a breath). This can lead to changes in the contrast of the resulting image if nothing were do be done. This can be accounted for (usually by software) by modulating two elements: \n",
    "* Energy being given to the *receiver* (the II) or gain applied to the image (flat-panel)\n",
    "    * Does not increase patient dosage\n",
    "    * Reduces contrast and can lead to increased noise\n",
    "* kV given to the emitter\n",
    "    * Very slightly increases dosage\n",
    "    * More noise and less contrast, better than the above\n",
    "* mA given to the emitter\n",
    "    * Substantial increase in dosage\n",
    "    * No loss in contrast, and often (slightly) reduces noise\n",
    "\n",
    "A balanced between image quality and patient dosage is usually optimal, though settings often exist to skew the results in either direction as needed."
   ]
  },
  {
   "cell_type": "markdown",
   "metadata": {
    "slideshow": {
     "slide_type": "slide"
    }
   },
   "source": [
    "## Dosage Monitoring\n",
    "* Maximum permissible exposure rate (set by the FDA): 87.3 mGy/min., or 10R/min.\n",
    "    * Generally exposure is much lower (less than 45 mGy/min.)\n",
    "    * In special cases, this is allowed to be doubled.\n",
    "* No limit in duration"
   ]
  },
  {
   "cell_type": "markdown",
   "metadata": {
    "slideshow": {
     "slide_type": "slide"
    }
   },
   "source": [
    "To confirm the machines follow this standard, a set up like the following is usually run:\n",
    "<img src=\"TestSetup.png\" width=480 height=480/>\n",
    "<br>Source: Essential Physics of Medical Imaging 3rd Edition (Figure 9-16)"
   ]
  },
  {
   "cell_type": "markdown",
   "metadata": {
    "slideshow": {
     "slide_type": "notes"
    }
   },
   "source": [
    "* Evaluated based on position and distance from the X-Ray tube\n",
    "* KAP contains ion chambers which measure output\n",
    "* The lead sheet's attenuation forces the AERC to run the X-Ray tube at maximum possible power.\n",
    "* A flesh like substance is placed between the exposure meter and lead sheet to simulate any scattering that may occur during imaging of a patient"
   ]
  },
  {
   "cell_type": "markdown",
   "metadata": {
    "slideshow": {
     "slide_type": "slide"
    }
   },
   "source": [
    "**Q5: Who can be affected by the X-ray dosage during a procedure?**\n",
    "\n",
    "**Q6: How can exposure risk be mitigated?**"
   ]
  },
  {
   "cell_type": "markdown",
   "metadata": {
    "slideshow": {
     "slide_type": "slide"
    }
   },
   "source": [
    "## Common Use Cases\n",
    "*Gastrointestinal Diagnostics*\n",
    "\n",
    "* See digestion problems (leaks, growths, lesions etc.) in real time\n",
    "* Almost always requires ingesting a high-contrast liquid (usually barium sulfate)"
   ]
  },
  {
   "cell_type": "markdown",
   "metadata": {
    "hideCode": true,
    "hidePrompt": true,
    "slideshow": {
     "slide_type": "slide"
    }
   },
   "source": [
    "Healthy Swallow:\n",
    "<img src=\"Barium_swallow.gif\" width=248 height=360/>\n",
    "<br>Source: Wikipedia (Normal barium swallow animation.gif, Hellerhoff)"
   ]
  },
  {
   "cell_type": "markdown",
   "metadata": {
    "slideshow": {
     "slide_type": "slide"
    }
   },
   "source": [
    "Paresis of the pharynxconstrictors (fluid becomes stuck in the pharynx)\n",
    "<img src=\"AbnormalSwallow.gif\" width=248 height=360/>\n",
    "<br>Source: Swallowing disorders update - Robin Smithuis (stasis slide show)"
   ]
  },
  {
   "cell_type": "markdown",
   "metadata": {
    "hidePrompt": false,
    "slideshow": {
     "slide_type": "slide"
    }
   },
   "source": [
    "*Angiography (Fluoroscopy of Veins)*\n",
    "\n",
    "* Same concept as the above, but often at higher frame-rate (~60fps)\n",
    "* Usually high-contrast liquids are injected (usually iodine) to better resolve vessels\n",
    "\n",
    "<img src=\"AbsorbCurves.jpeg\" width=600 height=600/>\n",
    "<br>Source: In vivo small animal micro-CT using nanoparticle contrast agents (Figure 2)"
   ]
  },
  {
   "cell_type": "code",
   "execution_count": 2,
   "metadata": {
    "hideCode": true,
    "hideOutput": false,
    "hidePrompt": true,
    "slideshow": {
     "slide_type": "slide"
    }
   },
   "outputs": [
    {
     "data": {
      "text/html": [
       "<video width=\"480\" height=\"360\" controls>\n",
       "  <source src=\"Renal_artery_angiography.webm\" type=\"video/webm\">\n",
       "</video>\n",
       "<br>Source: Wikipedia (Renal artery angiography.ogv, DEXi)\n"
      ],
      "text/plain": [
       "<IPython.core.display.HTML object>"
      ]
     },
     "metadata": {},
     "output_type": "display_data"
    }
   ],
   "source": [
    "%%html\n",
    "<video width=\"480\" height=\"360\" controls>\n",
    "  <source src=\"Renal_artery_angiography.webm\" type=\"video/webm\">\n",
    "</video>\n",
    "<br>Source: Wikipedia (Renal artery angiography.ogv, DEXi)"
   ]
  },
  {
   "cell_type": "markdown",
   "metadata": {
    "slideshow": {
     "slide_type": "slide"
    }
   },
   "source": [
    "*Surgical Guidance*\n",
    "\n",
    "* Instead of needing to physically expose tissue of interest, we can guide our tools remotely, guided by the image\n",
    "* I.E. catheterization, fluid draining, sample collection etc."
   ]
  },
  {
   "cell_type": "markdown",
   "metadata": {
    "hideCode": true,
    "hidePrompt": true,
    "slideshow": {
     "slide_type": "slide"
    }
   },
   "source": [
    "<img src=\"Catheter_insertion.gif\" width=320 height=320/>\n",
    "<br>Source: Immanuel Albertinen Diakonie (PTCA mit Stent ohne Medikamentenbeschichtung, Figure 1)"
   ]
  },
  {
   "cell_type": "markdown",
   "metadata": {
    "slideshow": {
     "slide_type": "slide"
    }
   },
   "source": [
    "*Emergency Imaging/Rapid Diagnostics*\n",
    "\n",
    "* Find the problem quickly, accurately, and with much less risk to the patient (opposed to surgery or other physical inspection techniques)"
   ]
  },
  {
   "cell_type": "markdown",
   "metadata": {
    "hideCode": true,
    "hidePrompt": true,
    "slideshow": {
     "slide_type": "slide"
    }
   },
   "source": [
    "<br>Post-Surgery Staple Leak\n",
    "<img src=\"Fluoroscopy_emergency.jpeg\" width=320 height=320/>\n",
    "<br>Source: European Society of Radiology (Electronic Presentation Online System, C-1264, Figure 4)"
   ]
  },
  {
   "cell_type": "markdown",
   "metadata": {
    "slideshow": {
     "slide_type": "slide"
    }
   },
   "source": [
    "## A Common Specialization: the C-Arm\n",
    "* Named for its shape\n",
    "* Allows for rotation around the patient, allowing fast, targeted imaging around the patient\n",
    "    * This allows 3D reconstruction of the targeted structure if needed, similar to a CT scan\n",
    "\n",
    "Flat Panel 3D C-Arm:\n",
    "<img src=\"C-Arm.jpg\" width=320 height=320/>\n",
    "<br>Source: IF World Design  (Ziehm Vision RFD 3D)"
   ]
  },
  {
   "cell_type": "markdown",
   "metadata": {
    "slideshow": {
     "slide_type": "slide"
    }
   },
   "source": [
    "**Q7: The X-Ray emitter is almost always place on the lower part of the C-Arm. Why?**"
   ]
  },
  {
   "cell_type": "markdown",
   "metadata": {
    "slideshow": {
     "slide_type": "slide"
    }
   },
   "source": [
    "### Benefits and Drawbacks"
   ]
  },
  {
   "cell_type": "markdown",
   "metadata": {
    "slideshow": {
     "slide_type": "fragment"
    }
   },
   "source": [
    "* Pros:\n",
    "    * Extremely mobile\n",
    "    * Allows imaging during surgery and diagnostics\n",
    "    * Versatile (from quick scans of the hand to surgical imaging)\n",
    "    * Very fast (relative to other common procedures)\n",
    "* Cons:\n",
    "    * Lower fidelity\n",
    "    * Higher dosage (to both patient and clinician)\n",
    "        * Especially when collecting data for a 3D image\n",
    "    * More upkeep required to use (more parts to maintain)"
   ]
  },
  {
   "cell_type": "markdown",
   "metadata": {
    "slideshow": {
     "slide_type": "slide"
    }
   },
   "source": [
    "## ALARA Considerations"
   ]
  },
  {
   "cell_type": "markdown",
   "metadata": {
    "slideshow": {
     "slide_type": "fragment"
    }
   },
   "source": [
    "* Long-term risks of radiation vs. short term risks of illness"
   ]
  },
  {
   "cell_type": "markdown",
   "metadata": {
    "slideshow": {
     "slide_type": "fragment"
    }
   },
   "source": [
    "* Risks vs. benefits of radiation over that of a more invasive procedure or other imaging technique"
   ]
  },
  {
   "cell_type": "markdown",
   "metadata": {
    "slideshow": {
     "slide_type": "fragment"
    }
   },
   "source": [
    "**Q8: What is the most important consideration with fluoroscopy?**"
   ]
  },
  {
   "cell_type": "markdown",
   "metadata": {
    "slideshow": {
     "slide_type": "slide"
    }
   },
   "source": [
    "## Summary:\n",
    "* Fluoroscopy: X-Ray Video\n",
    "* **Dosages is *incredibly* important, being dangerous if not accounted for.**\n",
    "* C-Arm is a common and versatile technique, but more difficult to maintain and prone to lower image quality"
   ]
  },
  {
   "cell_type": "markdown",
   "metadata": {
    "slideshow": {
     "slide_type": "slide"
    }
   },
   "source": [
    "# Thanks for Watching!"
   ]
  }
 ],
 "metadata": {
  "celltoolbar": "Slideshow",
  "kernelspec": {
   "display_name": "Python 3",
   "language": "python",
   "name": "python3"
  },
  "language_info": {
   "codemirror_mode": {
    "name": "ipython",
    "version": 3
   },
   "file_extension": ".py",
   "mimetype": "text/x-python",
   "name": "python",
   "nbconvert_exporter": "python",
   "pygments_lexer": "ipython3",
   "version": "3.6.8"
  }
 },
 "nbformat": 4,
 "nbformat_minor": 2
}
