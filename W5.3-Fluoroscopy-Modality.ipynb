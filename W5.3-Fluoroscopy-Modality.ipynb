{
 "cells": [
  {
   "cell_type": "markdown",
   "metadata": {
    "slideshow": {
     "slide_type": "slide"
    }
   },
   "source": [
    "## Learning Objectives\n",
    "1. Learn what distinbguishes Fluoroscopy from other X-Ray modalities\n",
    "2. Determine common use cases of fluoroscopy analysis\n",
    "3. Evaluate the benefits and & drawbacks of the technique\n",
    "4. Learn about and understand the design of fluoroscopy machines (in particular the C-Arm)"
   ]
  },
  {
   "cell_type": "markdown",
   "metadata": {
    "hideCode": false,
    "slideshow": {
     "slide_type": "slide"
    }
   },
   "source": [
    "## What is Fluoroscopy?\n",
    "* Fluoroscopy is simply an X-Ray with an added dimension; time\n",
    "* Multiple X-rays samples are taken in sequence and displayed as a video\n",
    "* Anywhere from 5-30 frames per second (fps) is common, with up to 60fps being occasionally used"
   ]
  },
  {
   "cell_type": "markdown",
   "metadata": {
    "slideshow": {
     "slide_type": "slide"
    }
   },
   "source": [
    "**Q1: In what situations would this dimension be useful?**"
   ]
  },
  {
   "cell_type": "markdown",
   "metadata": {
    "slideshow": {
     "slide_type": "slide"
    }
   },
   "source": [
    "## Multiple Sampling\n",
    "To achieve the real-time imaging, multiple samples need to be taken in rapid succession. This is done in one of two ways:\n",
    "* Continous X-Ray emmision, with a sum-of-samples taken every period\n",
    "    * Prone to \"smearing\" motion\n",
    "* Higher intensity pulses of X-Ray radiation done every period\n",
    "    * Can miss things that occur more rapidly than the frequency would capture"
   ]
  },
  {
   "cell_type": "markdown",
   "metadata": {
    "slideshow": {
     "slide_type": "slide"
    }
   },
   "source": [
    "**Q2: What issues might arise from taking multiple samples in rapid succession?**\n",
    "\n",
    "**Q3: How could these issues be mitigated?** "
   ]
  },
  {
   "cell_type": "markdown",
   "metadata": {
    "slideshow": {
     "slide_type": "slide"
    }
   },
   "source": [
    "At 30fps, a 10 minute examination would create 18,000 images! If the radiation dose is not reduced, it would burn the patient!<br>\n",
    "<img src=\"Fluoroscopy_burn.jpg\" width=320 height=320/>\n",
    "<br>Source: American Association of Physicists in Medicine (Protecting patients by training physicians in fluoroscopic radiation management, Figure 1)"
   ]
  },
  {
   "cell_type": "markdown",
   "metadata": {
    "slideshow": {
     "slide_type": "slide"
    }
   },
   "source": [
    "## Compensating for Repetition\n",
    "Most direct solution; reduce the intensity and strength required for each sample!\n",
    "* Most fluoroscopes samples are taken with 1/1000th the intensity of general X-Ray\n",
    "* This causes a number of issues, however:\n",
    "    * Increased noise-to-signal ratio\n",
    "    * Reduced fidelity of the signal"
   ]
  },
  {
   "cell_type": "markdown",
   "metadata": {
    "slideshow": {
     "slide_type": "slide"
    }
   },
   "source": [
    "**Q4: Why does the signal-to-noise ratio increase?**"
   ]
  },
  {
   "cell_type": "markdown",
   "metadata": {
    "slideshow": {
     "slide_type": "slide"
    }
   },
   "source": [
    "## How does a Fluoroscope system work?\n",
    "* The physics are the same as any other X-Ray; just at a lower dosage\n",
    "* To account for lower dosage, an image intensifier (be it physical or electronic) is required\n",
    "* Attenuating wedges can be added to decrease X-Ray exposure, decrease glare, and equalize any X-Ray \"hot spots\"\n",
    "* The field of view (FoV) can also be adjusted using a collimator, further increasing control on dosage and targetting\n",
    "* Finally, filters can be put in place to control dosage even more (though this is more wasteful energy-wise than other solutions)\n"
   ]
  },
  {
   "cell_type": "markdown",
   "metadata": {
    "slideshow": {
     "slide_type": "subslide"
    }
   },
   "source": [
    "<img src=\"FluoroscopyDesign.jpg\" width=240 height=240/>\n",
    "<br>Source: Image Wisely 2020 (Modern Fluoroscopy Imaging Systems, Figure 1, Dr. Gingold et al.)"
   ]
  },
  {
   "cell_type": "markdown",
   "metadata": {
    "slideshow": {
     "slide_type": "slide"
    }
   },
   "source": [
    "## Image Intensified (II) Design\n",
    "* Initially invented for fluoroscopy, specicially to get around the low signal issue\n",
    "* Effectively multiplies the recieved X-Ray's strength to allow for a usable signal\n",
    "* Results in a disorted \"pin-cushion\" effect, however, requiring the user to do their best to center the structure in the scan region."
   ]
  },
  {
   "cell_type": "markdown",
   "metadata": {
    "slideshow": {
     "slide_type": "subslide"
    }
   },
   "source": [
    "<img src=\"Fluoroscopy_reciever.png\" width=480 height=480/>\n",
    "<br>Source: Essential Physics of Medical Imaging 3rd Edition (Figure 9-4)"
   ]
  },
  {
   "cell_type": "markdown",
   "metadata": {
    "slideshow": {
     "slide_type": "slide"
    }
   },
   "source": [
    "## Flat-Panel Design\n",
    "Mimics a more classical X-Ray system, but the lack of an II requires difference compensations methods:\n",
    "* Larger dexels to \"bin\" captured X-Rays into a readable signal (reducing spatial resolution)\n",
    "* Capacitors which accumulates recieved energy over time (reducing temporal resolution)\n",
    "\n",
    "These systems tend to be cheaper (requiring fewer parts and simpler designs) and more light weight compared to a full II. The signal they produce also lacks (most) disortions, so it is easier to process. Hence, they have been slowly phasing out the II in most applications. However, IIs generally have greater collimation and less electronic noise, so are still seen for specialized uses."
   ]
  },
  {
   "cell_type": "markdown",
   "metadata": {
    "slideshow": {
     "slide_type": "slide"
    }
   },
   "source": [
    "## Auto-Exposure (AERC Circuit)\n",
    "Due to the temporal element, the attentuation the patient has can change over time (I.E. if they take a breath). This can lead to changes in the contrast of the resulting image if nothing were do be done. This can be accounted for (usually by software) by modulating two elements: \n",
    "* Energy being given to the *receiver* (the II) or gain applied to the image (flat-panel)\n",
    "    * Does not increase patient dosage\n",
    "    * Reduces contrast and can lead to increased noise\n",
    "* kV given to the emitter\n",
    "    * Very slightly increases dosage\n",
    "    * More noise and less contrast, better than the above\n",
    "* mA given to the emitter\n",
    "    * Substantial increase in dosage\n",
    "    * No loss in contrast, and often (slightly) reduces noise\n",
    "\n",
    "A balanced between image quality and patient dosage is usually optimal, though settings often exist to skew the results in either direction as needed."
   ]
  },
  {
   "cell_type": "markdown",
   "metadata": {
    "slideshow": {
     "slide_type": "slide"
    }
   },
   "source": [
    "<img src=\"Compensation_curves.png\" width=360 height=360/>\n",
    "<br>Source: Essential Physics of Medical Imaging 3rd Edition (Figure 9-8)"
   ]
  },
  {
   "cell_type": "markdown",
   "metadata": {
    "slideshow": {
     "slide_type": "slide"
    }
   },
   "source": [
    "## Modes of Operation\n",
    "**Continuous**: 33ms exposure per frame (30fps)\n",
    "\n",
    "**Pulsed**: 3-10ms exposure per frame"
   ]
  },
  {
   "cell_type": "markdown",
   "metadata": {
    "slideshow": {
     "slide_type": "fragment"
    }
   },
   "source": [
    "<img src=\"ModesOfOperation.png\" width=480 height=480/>\n",
    "<br>Source: Essential Physics of Medical Imaging 3rd Edition (Figure 9-9)"
   ]
  },
  {
   "cell_type": "markdown",
   "metadata": {
    "slideshow": {
     "slide_type": "slide"
    }
   },
   "source": [
    "## Dosage Monitoring\n",
    "* Maximum permissible exposure rate (set by the FDA): 87.3 mGy/min., or 10R/min.\n",
    "    * Generally exposure is much lower, however (less than 45 mGy/min.)\n",
    "    * In special cases, this is allowed to be doubled.\n",
    "* No limit in duration"
   ]
  },
  {
   "cell_type": "markdown",
   "metadata": {
    "slideshow": {
     "slide_type": "slide"
    }
   },
   "source": [
    "To confirm the machines follow this standard, a set up like the following is usually run:\n",
    "<img src=\"TestSetup.png\" width=480 height=480/>\n",
    "<br>Source: Essential Physics of Medical Imaging 3rd Edition (Figure 9-16)"
   ]
  },
  {
   "cell_type": "markdown",
   "metadata": {
    "slideshow": {
     "slide_type": "fragment"
    }
   },
   "source": [
    "* Evaluated based on position and distance from the X-Ray tube\n",
    "* KAP contains ion chambers which measure output\n",
    "* The lead sheet's attenuation forces the AERC to run the X-Ray tube at maximum possible power.\n",
    "* A flesh like substance is placed between the exposure meter and lead sheet to simulate any scattering that may occur during imaging of a patient"
   ]
  },
  {
   "cell_type": "markdown",
   "metadata": {
    "slideshow": {
     "slide_type": "slide"
    }
   },
   "source": [
    "**Q5: Who can be affected by the X-ray dosage during a preocedure?**\n",
    "\n",
    "**Q6: How can exposure risk be mitigated?**"
   ]
  },
  {
   "cell_type": "markdown",
   "metadata": {
    "slideshow": {
     "slide_type": "slide"
    }
   },
   "source": [
    "## Common Use Cases\n",
    "*Gastrointestinal Diagnostics*\n",
    "\n",
    "* See digestion problems (leaks, growths, leisions etc.) in real time\n",
    "* Almost always requires ingesting a high-contrast liquid\n",
    "\n"
   ]
  },
  {
   "cell_type": "markdown",
   "metadata": {
    "hideCode": true,
    "hidePrompt": true,
    "slideshow": {
     "slide_type": "slide"
    }
   },
   "source": [
    "<img src=\"Barium_swallow.gif\" width=248 height=360/>\n",
    "<br>Source: Wikipedia (Normal barium swallow animation.gif, Hellerhoff)"
   ]
  },
  {
   "cell_type": "markdown",
   "metadata": {
    "hidePrompt": false,
    "slideshow": {
     "slide_type": "slide"
    }
   },
   "source": [
    "*Angiography (Fluoroscopy of Veins)*\n",
    "\n",
    "* Same concept as the above, but often at higher frame-rate (~60fps)\n",
    "* Usually high-contrast liquids are injected to better resolve vessels"
   ]
  },
  {
   "cell_type": "code",
   "execution_count": 1,
   "metadata": {
    "hideCode": true,
    "hideOutput": false,
    "hidePrompt": true,
    "slideshow": {
     "slide_type": "slide"
    }
   },
   "outputs": [
    {
     "data": {
      "text/html": [
       "<video width=\"480\" height=\"360\" controls>\n",
       "  <source src=\"Renal_artery_angiography.webm\" type=\"video/webm\">\n",
       "</video>\n",
       "<br>Source: Wikipedia (Renal artery angiography.ogv, DEXi)\n"
      ],
      "text/plain": [
       "<IPython.core.display.HTML object>"
      ]
     },
     "metadata": {},
     "output_type": "display_data"
    }
   ],
   "source": [
    "%%HTML\n",
    "<video width=\"480\" height=\"360\" controls>\n",
    "  <source src=\"Renal_artery_angiography.webm\" type=\"video/webm\">\n",
    "</video>\n",
    "<br>Source: Wikipedia (Renal artery angiography.ogv, DEXi)"
   ]
  },
  {
   "cell_type": "markdown",
   "metadata": {
    "slideshow": {
     "slide_type": "slide"
    }
   },
   "source": [
    "*Surgical Guidance*\n",
    "\n",
    "* Instead of needing to physically expose tissue of interest, we can guide our tools remotely, guided by the image\n",
    "* I.E. catheterization, fluid draining, sample collection and the like"
   ]
  },
  {
   "cell_type": "markdown",
   "metadata": {
    "hideCode": true,
    "hidePrompt": true,
    "slideshow": {
     "slide_type": "slide"
    }
   },
   "source": [
    "<img src=\"Catheter_insertion.gif\" width=320 height=320/>\n",
    "<br>Source: Immanuel Albertinen Diakonie (PTCA mit Stent ohne Medikamentenbeschichtung, Figure 1)"
   ]
  },
  {
   "cell_type": "markdown",
   "metadata": {
    "slideshow": {
     "slide_type": "slide"
    }
   },
   "source": [
    "*Emergency Imaging/Rapid Diagnostics*\n",
    "\n",
    "* Find the problem quickly, accurately, and with much less risk to the patient (opposed to surgery or other physcial inspection techniques)"
   ]
  },
  {
   "cell_type": "markdown",
   "metadata": {
    "hideCode": true,
    "hidePrompt": true,
    "slideshow": {
     "slide_type": "slide"
    }
   },
   "source": [
    "<br>Post-Surgery Staple Leak\n",
    "<img src=\"Fluoroscopy_emergency.jpeg\" width=320 height=320/>\n",
    "<br>Source: European Society of Radiology (Electronic Presentation Online System, C-1264, Figure 4)"
   ]
  },
  {
   "cell_type": "markdown",
   "metadata": {
    "slideshow": {
     "slide_type": "slide"
    }
   },
   "source": [
    "## A Common Specialization: the C-Arm\n",
    "* Named for its shape\n",
    "* Allows for rotation around the patient, allowing fast, targetted imaging around the patient\n",
    "    * This allows 3D reconstruction of the targetted structure if needed, similar to a CT scan\n",
    "\n",
    "Flat Panel 3D C-Arm:\n",
    "<img src=\"C-Arm.jpg\" width=320 height=320/>\n",
    "<br>Source: IF World Design  (Ziehm Vision RFD 3D)"
   ]
  },
  {
   "cell_type": "markdown",
   "metadata": {
    "slideshow": {
     "slide_type": "slide"
    }
   },
   "source": [
    "**Q7: The X-Ray emmiter is almost always place on the lower part of the C-Arm. Why?**"
   ]
  },
  {
   "cell_type": "markdown",
   "metadata": {
    "slideshow": {
     "slide_type": "slide"
    }
   },
   "source": [
    "### Benefits and Drawbacks"
   ]
  },
  {
   "cell_type": "markdown",
   "metadata": {
    "slideshow": {
     "slide_type": "fragment"
    }
   },
   "source": [
    "* Pros:\n",
    "    * Extremely mobile\n",
    "    * Allows imaging during surgery and diagnostics\n",
    "    * Versatile (from quick scans of the hand to surgical imaging)\n",
    "    * Very fast (relative to other common procedures)\n",
    "* Cons:\n",
    "    * Lower fidelity\n",
    "    * Higher dosage (to both patient and clinician)\n",
    "        * Especially when collecting data for a 3D image\n",
    "    * More prone to misuse and damage (more exposed parts)"
   ]
  },
  {
   "cell_type": "code",
   "execution_count": null,
   "metadata": {},
   "outputs": [],
   "source": []
  }
 ],
 "metadata": {
  "celltoolbar": "Slideshow",
  "kernelspec": {
   "display_name": "Python 3",
   "language": "python",
   "name": "python3"
  },
  "language_info": {
   "codemirror_mode": {
    "name": "ipython",
    "version": 3
   },
   "file_extension": ".py",
   "mimetype": "text/x-python",
   "name": "python",
   "nbconvert_exporter": "python",
   "pygments_lexer": "ipython3",
   "version": "3.6.8"
  }
 },
 "nbformat": 4,
 "nbformat_minor": 2
}
